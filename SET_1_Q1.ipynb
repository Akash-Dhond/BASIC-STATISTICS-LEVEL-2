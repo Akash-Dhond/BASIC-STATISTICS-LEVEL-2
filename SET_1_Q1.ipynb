{
  "nbformat": 4,
  "nbformat_minor": 0,
  "metadata": {
    "colab": {
      "provenance": []
    },
    "kernelspec": {
      "name": "python3",
      "display_name": "Python 3"
    },
    "language_info": {
      "name": "python"
    }
  },
  "cells": [
    {
      "cell_type": "code",
      "source": [
        "import numpy as np\n",
        "import pandas as pd \n",
        "import matplotlib.pyplot as plt\n",
        "import seaborn as sns\n",
        "%matplotlib inline"
      ],
      "metadata": {
        "id": "yzzjncUxugTe"
      },
      "execution_count": null,
      "outputs": []
    },
    {
      "cell_type": "code",
      "source": [
        "x=pd.Series([24.23,25.53,25.41,24.14,29.62,28.25,25.81,24.39,40.26,32.95,91.36,25.99,39.42,26.71,35.00])"
      ],
      "metadata": {
        "id": "b4m4Dg2puhj_"
      },
      "execution_count": null,
      "outputs": []
    },
    {
      "cell_type": "code",
      "source": [
        "name=['Allied Signal','Bankers Trust','General Mills','ITT Industries','J.P.Morgan & Co.','Lehman Brothers',\n",
        "      'Marriott','MCI','Merrill Lynch','Microsoft','Morgan Stanley','Sun Microsystems','Travelers','US Airways',\n",
        "      'Warner-Lambert']"
      ],
      "metadata": {
        "id": "mPsRBYc2ukyn"
      },
      "execution_count": null,
      "outputs": []
    },
    {
      "cell_type": "code",
      "source": [
        "# Pie Plot\n",
        "plt.figure(figsize=(15,7))\n",
        "plt.pie(x,labels=name,autopct='%1.0f%%')\n",
        "plt.show()"
      ],
      "metadata": {
        "id": "2YtLvGr0unTm"
      },
      "execution_count": null,
      "outputs": []
    },
    {
      "cell_type": "code",
      "source": [
        "### Finding outliers using boxplot\n",
        "\n",
        "sns.boxplot(x)"
      ],
      "metadata": {
        "id": "wXa5LgiauqJd"
      },
      "execution_count": null,
      "outputs": []
    },
    {
      "cell_type": "code",
      "source": [
        "### Calculating mean \n",
        "x.mean()"
      ],
      "metadata": {
        "id": "5W_TgR3xusV6"
      },
      "execution_count": null,
      "outputs": []
    },
    {
      "cell_type": "code",
      "source": [
        "### Calculating standard deviation\n",
        "x.std()"
      ],
      "metadata": {
        "id": "FtZtPqrmus4e"
      },
      "execution_count": null,
      "outputs": []
    },
    {
      "cell_type": "code",
      "source": [
        "### Calculating variance\n",
        "x.var()"
      ],
      "metadata": {
        "id": "j_KROBYvuvaX"
      },
      "execution_count": null,
      "outputs": []
    }
  ]
}