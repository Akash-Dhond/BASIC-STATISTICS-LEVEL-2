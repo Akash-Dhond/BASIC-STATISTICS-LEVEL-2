{
  "nbformat": 4,
  "nbformat_minor": 0,
  "metadata": {
    "colab": {
      "provenance": []
    },
    "kernelspec": {
      "name": "python3",
      "display_name": "Python 3"
    },
    "language_info": {
      "name": "python"
    }
  },
  "cells": [
    {
      "cell_type": "code",
      "source": [
        "from scipy import stats\n",
        "from scipy.stats import norm"
      ],
      "metadata": {
        "id": "kbEy6Ir45vxB"
      },
      "execution_count": 87,
      "outputs": []
    },
    {
      "cell_type": "code",
      "source": [
        "# A. More employees at the processing center are older than 44 than between 38 and 44."
      ],
      "metadata": {
        "id": "G9RBfLcb5xZ4"
      },
      "execution_count": 88,
      "outputs": []
    },
    {
      "cell_type": "code",
      "source": [
        "# p(X>44); Employees older than 44 yrs of age\n",
        "1-stats.norm.cdf(44,loc=38,scale=6)"
      ],
      "metadata": {
        "colab": {
          "base_uri": "https://localhost:8080/"
        },
        "id": "5KuQAv-d50CO",
        "outputId": "5f9f284c-405f-4108-a729-db852b368257"
      },
      "execution_count": 89,
      "outputs": [
        {
          "output_type": "execute_result",
          "data": {
            "text/plain": [
              "0.15865525393145707"
            ]
          },
          "metadata": {},
          "execution_count": 89
        }
      ]
    },
    {
      "cell_type": "code",
      "source": [
        "\n",
        "# p(38<X<44); Employees between 38 to 44 yrs of age\n",
        "stats.norm.cdf(44,38,6)-stats.norm.cdf(38,38,6)"
      ],
      "metadata": {
        "colab": {
          "base_uri": "https://localhost:8080/"
        },
        "id": "vBis3Vtg50hj",
        "outputId": "7be3cc97-015c-4c2c-d7c4-658cf13f6e70"
      },
      "execution_count": 90,
      "outputs": [
        {
          "output_type": "execute_result",
          "data": {
            "text/plain": [
              "0.3413447460685429"
            ]
          },
          "metadata": {},
          "execution_count": 90
        }
      ]
    },
    {
      "cell_type": "code",
      "source": [
        "# B. A training program for employees under the age of 30 at the center would be expected to attract about 36 employees."
      ],
      "metadata": {
        "id": "7F5sqccR52Om"
      },
      "execution_count": 91,
      "outputs": []
    },
    {
      "cell_type": "code",
      "source": [
        "# P(X<30); Employees under 30 yrs of age\n",
        "stats.norm.cdf(30,38,6)"
      ],
      "metadata": {
        "colab": {
          "base_uri": "https://localhost:8080/"
        },
        "id": "NqvCg_xm54VH",
        "outputId": "377b6e34-debe-448f-8893-30de54afeac1"
      },
      "execution_count": 92,
      "outputs": [
        {
          "output_type": "execute_result",
          "data": {
            "text/plain": [
              "0.09121121972586788"
            ]
          },
          "metadata": {},
          "execution_count": 92
        }
      ]
    },
    {
      "cell_type": "code",
      "source": [
        "# No. of employees attending training program from 400 nos. is N*P(X<30)\n",
        "400*stats.norm.cdf(30,38,6)"
      ],
      "metadata": {
        "colab": {
          "base_uri": "https://localhost:8080/"
        },
        "id": "Hruo8mz9556A",
        "outputId": "c3c1b567-5e7d-46ba-b15d-596265240ecc"
      },
      "execution_count": 93,
      "outputs": [
        {
          "output_type": "execute_result",
          "data": {
            "text/plain": [
              "36.484487890347154"
            ]
          },
          "metadata": {},
          "execution_count": 93
        }
      ]
    }
  ]
}