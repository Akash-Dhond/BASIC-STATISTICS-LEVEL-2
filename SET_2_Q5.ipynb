{
  "nbformat": 4,
  "nbformat_minor": 0,
  "metadata": {
    "colab": {
      "provenance": []
    },
    "kernelspec": {
      "name": "python3",
      "display_name": "Python 3"
    },
    "language_info": {
      "name": "python"
    }
  },
  "cells": [
    {
      "cell_type": "code",
      "source": [
        "import numpy as np\n",
        "from scipy import stats\n",
        "from scipy.stats import norm"
      ],
      "metadata": {
        "id": "X624br7Z4STX"
      },
      "execution_count": 74,
      "outputs": []
    },
    {
      "cell_type": "code",
      "source": [
        "# Mean profits from two different divisions of a company = Mean1 + Mean2\n",
        "Mean = 5+7\n",
        "print('Mean Profit is Rs', Mean*45,'Million')"
      ],
      "metadata": {
        "colab": {
          "base_uri": "https://localhost:8080/"
        },
        "id": "tinNxsj44S0I",
        "outputId": "1f774625-9183-4d28-be8e-6e327a2fa125"
      },
      "execution_count": 75,
      "outputs": [
        {
          "output_type": "stream",
          "name": "stdout",
          "text": [
            "Mean Profit is Rs 540 Million\n"
          ]
        }
      ]
    },
    {
      "cell_type": "code",
      "source": [
        "# Variance of profits from two different divisions of a company = SD^2 = SD1^2 + SD2^2\n",
        "SD = (3^2)+(4^2)\n",
        "print('Standard Deviation is Rs', SD*45, 'Million')"
      ],
      "metadata": {
        "colab": {
          "base_uri": "https://localhost:8080/"
        },
        "id": "gM5hGYMb4UX-",
        "outputId": "673ef5e2-c819-4faa-9ac1-e31b6f6a38db"
      },
      "execution_count": 76,
      "outputs": [
        {
          "output_type": "stream",
          "name": "stdout",
          "text": [
            "Standard Deviation is Rs 315 Million\n"
          ]
        }
      ]
    },
    {
      "cell_type": "code",
      "source": [
        "# A. Specify a Rupee range (centered on the mean) such that it contains 95% probability for the annual profit of the company.\n",
        "print('Range is Rs',(stats.norm.interval(0.95,540,315)),'in Millions')"
      ],
      "metadata": {
        "colab": {
          "base_uri": "https://localhost:8080/"
        },
        "id": "qe3A9D_Z4XjR",
        "outputId": "4b0aa099-99c4-41cf-f65d-475b532db9bd"
      },
      "execution_count": 77,
      "outputs": [
        {
          "output_type": "stream",
          "name": "stdout",
          "text": [
            "Range is Rs (-77.38865513011706, 1157.388655130117) in Millions\n"
          ]
        }
      ]
    },
    {
      "cell_type": "code",
      "source": [
        "# B. Specify the 5th percentile of profit (in Rupees) for the company\n",
        "# To compute 5th Percentile, we use the formula X=μ + Zσ; wherein from z table, 5 percentile = -1.64\n",
        "X= 540+(-1.64)*(315)\n",
        "print('5th percentile of profit (in Million Rupees) is',np.round(X,2))"
      ],
      "metadata": {
        "colab": {
          "base_uri": "https://localhost:8080/"
        },
        "id": "o5kXn0r54YQG",
        "outputId": "44ef4be6-d74c-4a8c-f901-cba0eba6d5f8"
      },
      "execution_count": 78,
      "outputs": [
        {
          "output_type": "stream",
          "name": "stdout",
          "text": [
            "5th percentile of profit (in Million Rupees) is 23.4\n"
          ]
        }
      ]
    },
    {
      "cell_type": "code",
      "source": [
        "# C. Which of the two divisions has a larger probability of making a loss in a given year?"
      ],
      "metadata": {
        "id": "JWUEbRCx4aQf"
      },
      "execution_count": 79,
      "outputs": []
    },
    {
      "cell_type": "code",
      "source": [
        "# Probability of Division 1 making a loss P(X<0)\n",
        "stats.norm.cdf(0,5,3)"
      ],
      "metadata": {
        "colab": {
          "base_uri": "https://localhost:8080/"
        },
        "id": "oQobn_ym4cZg",
        "outputId": "8dae503e-40fe-44c8-8154-5af58d379001"
      },
      "execution_count": 80,
      "outputs": [
        {
          "output_type": "execute_result",
          "data": {
            "text/plain": [
              "0.0477903522728147"
            ]
          },
          "metadata": {},
          "execution_count": 80
        }
      ]
    },
    {
      "cell_type": "code",
      "source": [
        "# Probability of Division 2 making a loss P(X<0)\n",
        "stats.norm.cdf(0,7,4)"
      ],
      "metadata": {
        "colab": {
          "base_uri": "https://localhost:8080/"
        },
        "id": "yXtSBF6L4fTQ",
        "outputId": "4c955aa6-f9a3-43fa-8575-215c7eb434af"
      },
      "execution_count": 81,
      "outputs": [
        {
          "output_type": "execute_result",
          "data": {
            "text/plain": [
              "0.040059156863817086"
            ]
          },
          "metadata": {},
          "execution_count": 81
        }
      ]
    }
  ]
}